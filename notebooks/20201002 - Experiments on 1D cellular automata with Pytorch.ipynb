{
 "cells": [
  {
   "cell_type": "markdown",
   "metadata": {},
   "source": [
    "# Experiments on Cellular Automaton"
   ]
  },
  {
   "cell_type": "code",
   "execution_count": 1,
   "metadata": {
    "ExecuteTime": {
     "end_time": "2020-10-02T17:41:31.784559Z",
     "start_time": "2020-10-02T17:41:29.109649Z"
    }
   },
   "outputs": [],
   "source": [
    "# Base Data Science snippet\n",
    "import pandas as pd\n",
    "import numpy as np\n",
    "import matplotlib.pyplot as plt\n",
    "import os\n",
    "import time\n",
    "from tqdm import tqdm_notebook\n",
    "\n",
    "%matplotlib inline\n",
    "%load_ext autoreload\n",
    "%autoreload 2"
   ]
  },
  {
   "cell_type": "markdown",
   "metadata": {},
   "source": [
    "# 1D Cellular Automata"
   ]
  },
  {
   "cell_type": "markdown",
   "metadata": {},
   "source": [
    "Inspired by https://ipython-books.github.io/122-simulating-an-elementary-cellular-automaton/"
   ]
  },
  {
   "cell_type": "code",
   "execution_count": 170,
   "metadata": {
    "ExecuteTime": {
     "end_time": "2020-10-02T21:19:04.585921Z",
     "start_time": "2020-10-02T21:19:04.453275Z"
    }
   },
   "outputs": [
    {
     "data": {
      "text/plain": [
       "tensor([[[2., 5., 2., 4., 0.]]], grad_fn=<SqueezeBackward1>)"
      ]
     },
     "execution_count": 170,
     "metadata": {},
     "output_type": "execute_result"
    }
   ],
   "source": [
    "import torch\n",
    "import torch.nn as nn\n",
    "\n",
    "v = [1,0,1,0,0]\n",
    "f = [4,2,1]\n",
    "\n",
    "\n",
    "m = nn.Conv1d(1,1,3, stride=1,padding = 1,bias = False)\n",
    "m.weight = torch.nn.Parameter(torch.Tensor([[f]]))\n",
    "\n",
    "x = torch.Tensor([[v]])\n",
    "output = m(x)\n",
    "output"
   ]
  },
  {
   "cell_type": "code",
   "execution_count": 230,
   "metadata": {
    "ExecuteTime": {
     "end_time": "2020-10-02T21:39:29.173169Z",
     "start_time": "2020-10-02T21:39:29.041486Z"
    }
   },
   "outputs": [],
   "source": [
    "def step(x,rules):\n",
    "\n",
    "    # Convolve to convert to binary representation with zero padding\n",
    "    f = [4,2,1]\n",
    "    m = nn.Conv1d(1,1,3, stride=1,padding = 1,bias = False)\n",
    "    m.weight = torch.nn.Parameter(torch.Tensor([[f]]))\n",
    "    output = m(x[None,None,:])\n",
    "    indexes = torch.squeeze(output.data.type(torch.LongTensor))\n",
    "\n",
    "    # Transform to dummies\n",
    "    # Can also use .scatter_ https://discuss.pytorch.org/t/convert-int-into-one-hot-format/507/4\n",
    "    P = torch.zeros(len(x),8)\n",
    "    P[torch.arange(0,len(indexes)),indexes] = 1\n",
    "    \n",
    "    # Compute next step values\n",
    "    values = P @ rules\n",
    "    return values"
   ]
  },
  {
   "cell_type": "code",
   "execution_count": 270,
   "metadata": {
    "ExecuteTime": {
     "end_time": "2020-10-02T21:47:02.931769Z",
     "start_time": "2020-10-02T21:47:02.808100Z"
    }
   },
   "outputs": [
    {
     "data": {
      "text/plain": [
       "array([1, 0, 0, 1, 0, 0, 0, 0, 0, 1, 0, 0, 0, 0, 0, 0, 0, 0, 0, 0, 0, 0,\n",
       "       0, 1, 0, 0, 0, 0, 0, 0, 0, 0, 0, 0, 0, 0, 1, 0, 1, 0, 0, 0, 0, 0,\n",
       "       0, 1, 0, 0, 0, 0])"
      ]
     },
     "execution_count": 270,
     "metadata": {},
     "output_type": "execute_result"
    }
   ],
   "source": [
    "np.random.binomial(1,p = 0.2,size = (50))"
   ]
  },
  {
   "cell_type": "code",
   "execution_count": 333,
   "metadata": {
    "ExecuteTime": {
     "end_time": "2020-10-02T22:01:53.259047Z",
     "start_time": "2020-10-02T22:01:53.125242Z"
    }
   },
   "outputs": [],
   "source": [
    "\n",
    "def make_cellular_automata(size,p_init):\n",
    "\n",
    "    values = []\n",
    "\n",
    "    r = np.random.randint(0,2,size = 8)\n",
    "    rules = torch.Tensor(r)\n",
    "\n",
    "\n",
    "    init = np.random.binomial(1,p = p_init,size = size)\n",
    "#     x = torch.zeros(size)\n",
    "#     x[10] = 1\n",
    "#     x[25] = 1\n",
    "#     x\n",
    "    x = torch.Tensor(init)\n",
    "\n",
    "    values.append(x)\n",
    "\n",
    "    for i in range(size):\n",
    "        x = step(x,rules)\n",
    "        values.append(x)\n",
    "\n",
    "    plt.figure(figsize = (8,8))\n",
    "    plt.imshow(torch.stack(values).numpy())\n",
    "    plt.show()"
   ]
  },
  {
   "cell_type": "code",
   "execution_count": 355,
   "metadata": {
    "ExecuteTime": {
     "end_time": "2020-10-02T22:02:29.227464Z",
     "start_time": "2020-10-02T22:02:28.801601Z"
    }
   },
   "outputs": [
    {
     "data": {
      "image/png": "[encoded data removed]",
      "text/plain": [
       "<Figure size 576x576 with 1 Axes>"
      ]
     },
     "metadata": {
      "needs_background": "light"
     },
     "output_type": "display_data"
    }
   ],
   "source": [
    "size = 500\n",
    "p_init = 0.1\n",
    "\n",
    "make_cellular_automata(size,p_init)"
   ]
  },
  {
   "cell_type": "code",
   "execution_count": null,
   "metadata": {},
   "outputs": [],
   "source": []
  },
  {
   "cell_type": "code",
   "execution_count": null,
   "metadata": {},
   "outputs": [],
   "source": []
  }
 ],
 "metadata": {
  "kernelspec": {
   "display_name": "Python 3",
   "language": "python",
   "name": "python3"
  },
  "language_info": {
   "codemirror_mode": {
    "name": "ipython",
    "version": 3
   },
   "file_extension": ".py",
   "mimetype": "text/x-python",
   "name": "python",
   "nbconvert_exporter": "python",
   "pygments_lexer": "ipython3",
   "version": "3.7.4"
  },
  "toc": {
   "base_numbering": 1,
   "nav_menu": {},
   "number_sections": true,
   "sideBar": true,
   "skip_h1_title": false,
   "title_cell": "Table of Contents",
   "title_sidebar": "Contents",
   "toc_cell": false,
   "toc_position": {},
   "toc_section_display": true,
   "toc_window_display": false
  }
 },
 "nbformat": 4,
 "nbformat_minor": 2
}
